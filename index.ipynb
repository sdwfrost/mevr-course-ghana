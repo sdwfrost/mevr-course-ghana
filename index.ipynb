{
 "cells": [
  {
   "cell_type": "code",
   "execution_count": 1,
   "metadata": {
    "collapsed": true,
    "deletable": true,
    "editable": true,
    "slideshow": {
     "slide_type": "skip"
    }
   },
   "outputs": [],
   "source": [
    "%load_ext rpy2.ipython"
   ]
  },
  {
   "cell_type": "code",
   "execution_count": 2,
   "metadata": {
    "collapsed": true,
    "deletable": true,
    "editable": true,
    "slideshow": {
     "slide_type": "skip"
    }
   },
   "outputs": [],
   "source": [
    "from IPython.display import IFrame"
   ]
  },
  {
   "cell_type": "markdown",
   "metadata": {
    "deletable": true,
    "editable": true,
    "slideshow": {
     "slide_type": "slide"
    }
   },
   "source": [
    "# Molecular epidemiology of viruses"
   ]
  },
  {
   "cell_type": "markdown",
   "metadata": {
    "deletable": true,
    "editable": true,
    "slideshow": {
     "slide_type": "slide"
    }
   },
   "source": [
    "## Introduction\n",
    "\n",
    "- Viruses, especially RNA viruses, are highly genetically variable\n",
    "- This variation allows us to build high-resolution phylogenetic trees\n",
    "- Combined with dates of sampling, we can put a timescale on these trees\n",
    "- Integrating the time-stamped trees with mathematical models we can infer:\n",
    "    - Population size changes over time\n",
    "    - Migration patterns between subpopulations"
   ]
  },
  {
   "cell_type": "markdown",
   "metadata": {
    "deletable": true,
    "editable": true,
    "slideshow": {
     "slide_type": "slide"
    }
   },
   "source": [
    "## Steps\n",
    "\n",
    "- **Day 1. Phylogenetics**\n",
    "    - Obtaining sequence data\n",
    "    - Multiple sequence alignment\n",
    "    - Trimming and editing, if needed\n",
    "    - Screening for recombination\n",
    "    - Choosing an evolutionary model\n",
    "    - Reconstructing a maximum likelihood tree\n",
    "- **Day 2. Phylodynamics**\n",
    "    - Obtaining a time-tree\n",
    "    - Inference of effective population size\n",
    "    - Phylogeography"
   ]
  },
  {
   "cell_type": "markdown",
   "metadata": {
    "deletable": true,
    "editable": true,
    "slideshow": {
     "slide_type": "slide"
    }
   },
   "source": [
    "## Software used\n",
    "\n",
    "- [gbmunge](https://github.com/sdwfrost/gbmunge)\n",
    "- [MAFFT](https://mafft.cbrc.jp/alignment/software/)\n",
    "- [Seaview](http://doua.prabi.fr/software/seaview) or [AliView](http://ormbunkar.se/aliview/)\n",
    "- [IQ-TREE](http://www.iqtree.org/)\n",
    "- [FigTree](http://tree.bio.ed.ac.uk/software/figtree/)\n",
    "- [TempEst](http://tree.bio.ed.ac.uk/software/tempest/)\n",
    "- [R](https://www.r-project.org/) and [RStudio](https://www.rstudio.com/)\n",
    "- R packages:\n",
    "    [treedater](https://github.com/emvolz/treedater)\n",
    "    [skyspline](https://github.com/emvolz-phylodynamics/skyspline/)\n",
    "    [phyland](https://github.com/emvolz-phylodynamics/phyland)\n",
    "- [BEAST2](http://www.beast2.org/)"
   ]
  },
  {
   "cell_type": "markdown",
   "metadata": {
    "deletable": true,
    "editable": true,
    "slideshow": {
     "slide_type": "slide"
    }
   },
   "source": [
    "## RStudio\n",
    "\n",
    "- Interface to the R programming language\n",
    "- We will use R to\n",
    "    - Manipulate data\n",
    "    - Fit coalescent models\n",
    "    - Plotting\n",
    "- Also has:\n",
    "    - A terminal for running command-line programs\n",
    "    - A text editor for viewing text files"
   ]
  },
  {
   "cell_type": "markdown",
   "metadata": {
    "deletable": true,
    "editable": true,
    "slideshow": {
     "slide_type": "slide"
    }
   },
   "source": [
    "## Example datasets\n",
    "\n",
    "- Demonstration dataset: Ebola virus sequences sampled from humans in West Africa (>1000)\n",
    "    - See [Dudas et al. Nature (2017)](http://dx.doi.org/10.1038/nature22040)\n",
    "- Tutorial dataset: MERS coronavirus sequences from camels and humans in Saudi Arabia (>200)\n",
    "    - See [Dudas et al. biorXiv (2017)](http://dx.doi.org/10.1101/173211)"
   ]
  },
  {
   "cell_type": "markdown",
   "metadata": {
    "deletable": true,
    "editable": true,
    "slideshow": {
     "slide_type": "slide"
    }
   },
   "source": [
    "## Questions\n",
    "\n",
    "- **When did the epidemic start?**\n",
    "    - Generate a time-stamped phylogeny\n",
    "    - We can calculate the time to the most recent common ancestor\n",
    "- **Is the epidemic expanding, stable, or declining?**\n",
    "    - We can fit coalescent models to the data\n",
    "- **Where did the epidemic start?**\n",
    "    - Use *structured* coalescent models\n",
    "- These are phylodynamic questions, but first we need to obtain and process sequence data"
   ]
  },
  {
   "cell_type": "markdown",
   "metadata": {
    "deletable": true,
    "editable": true,
    "slideshow": {
     "slide_type": "slide"
    }
   },
   "source": [
    "# Obtaining data"
   ]
  },
  {
   "cell_type": "markdown",
   "metadata": {
    "deletable": true,
    "editable": true,
    "slideshow": {
     "slide_type": "slide"
    }
   },
   "source": [
    "## Data formatting\n",
    "\n",
    "- Sequence data\n",
    "- Metadata\n",
    "    - We require *collection date*\n",
    "    - We may also be interested in:\n",
    "        - Country of sampling\n",
    "        - Host\n",
    "- Often missing metadata\n",
    "    - Collection date may be missing\n",
    "    - Date may be approximate, e.g.\n",
    "        - 2013\n",
    "        - 2013-01"
   ]
  },
  {
   "cell_type": "markdown",
   "metadata": {
    "deletable": true,
    "editable": true,
    "slideshow": {
     "slide_type": "slide"
    }
   },
   "source": [
    "## Sequence data formatting\n",
    "\n",
    "- Many programs are fussy about data formats\n",
    "- The following FASTA format usually works\n",
    "    - Accession/sequence identifier\n",
    "    - Collection date\n",
    "\n",
    "\n",
    "```\n",
    ">JX869059_2012-06-13\n",
    "gatttaagtgaatagcttggctatctcacttcccctcgttctcttgcagaactttgattttaac...\n",
    "```"
   ]
  },
  {
   "cell_type": "markdown",
   "metadata": {
    "deletable": true,
    "editable": true,
    "slideshow": {
     "slide_type": "slide"
    }
   },
   "source": [
    "## Metadata formatting\n",
    "\n",
    "- Metadata in a tab-separated file\n",
    "\n",
    "```\n",
    "               name         host         country          date\n",
    "KF186564_2013-05-01\tHomo sapiens\tSaudi Arabia\t2013-05-01\n",
    "KF186565_2013-04-22\tHomo sapiens\tSaudi Arabia\t2013-04-22\n",
    "```"
   ]
  },
  {
   "cell_type": "markdown",
   "metadata": {
    "deletable": true,
    "editable": true,
    "slideshow": {
     "slide_type": "slide"
    }
   },
   "source": [
    "## Obtain sequences\n",
    "\n",
    "- There are several databases where sequences can be downloaded\n",
    "    - GenBank\n",
    "    - Virus Variation Resource\n",
    "    - GISAID (influenza)\n",
    "    - Los Alamos Databases (HIV, HCV, haemorhagic fever databases)"
   ]
  },
  {
   "cell_type": "markdown",
   "metadata": {
    "deletable": true,
    "editable": true,
    "slideshow": {
     "slide_type": "slide"
    }
   },
   "source": [
    "## Virus variation resource\n",
    "\n",
    "- [https://www.ncbi.nlm.nih.gov/genome/viruses/variation/](https://www.ncbi.nlm.nih.gov/genome/viruses/variation/)\n",
    "- Annotated databases of:\n",
    "    - Influenza\n",
    "    - Rotavirus\n",
    "    - Dengue\n",
    "    - West Nile virus\n",
    "    - Ebola virus\n",
    "    - Zika virus\n",
    "    - MERS Coronavirus\n",
    "- Offers a convenient search and download interface"
   ]
  },
  {
   "cell_type": "code",
   "execution_count": 2,
   "metadata": {
    "collapsed": false,
    "deletable": true,
    "editable": true,
    "slideshow": {
     "slide_type": "slide"
    }
   },
   "outputs": [
    {
     "data": {
      "text/html": [
       "\n",
       "        <iframe\n",
       "            width=\"800\"\n",
       "            height=\"350\"\n",
       "            src=\"https://www.ncbi.nlm.nih.gov/genomes/VirusVariation/Database/nph-select.cgi?&taxid=1335626\"\n",
       "            frameborder=\"0\"\n",
       "            allowfullscreen\n",
       "        ></iframe>\n",
       "        "
      ],
      "text/plain": [
       "<IPython.lib.display.IFrame at 0x7f13640a2470>"
      ]
     },
     "execution_count": 2,
     "metadata": {},
     "output_type": "execute_result"
    }
   ],
   "source": [
    "IFrame('https://www.ncbi.nlm.nih.gov/genomes/VirusVariation/Database/nph-select.cgi?&taxid=1335626', 800, 350)"
   ]
  },
  {
   "cell_type": "markdown",
   "metadata": {
    "deletable": true,
    "editable": true,
    "slideshow": {
     "slide_type": "slide"
    }
   },
   "source": [
    "## Searching for Ebola sequences\n",
    "\n",
    "Link [here](https://www.ncbi.nlm.nih.gov/genomes/VirusVariation/Database/nph-select.cgi?cmd=show_builder&country=1&download-select=fN&fday=1&fmonth=12&fyear=2013&genregion=any&go=database&host=Human&isolation=any&query_1_count=1902&query_1_count_genome_sets=0&query_1_country=1&query_1_fday=1&query_1_fmonth=12&query_1_fyear=2013&query_1_genregion=any&query_1_host=Human&query_1_isolation=any&query_1_line=on&query_1_line_num=1&query_1_query_key=1&query_1_searchin=sequence&query_1_sequence=N&query_1_species=Z&query_1_srcfilter_env_sample=include&query_1_srcfilter_labs=include&query_1_srcfilter_vac_strain=include&query_1_taxid=186536&query_1_tday=1&query_1_tmonth=7&query_1_tyear=2016&searchin=sequence&sequence=N&showfilters=true&species=Z&srcfilter_env_sample=include&srcfilter_labs=include&srcfilter_vac_strain=include&taxid=186536&tday=1&tmonth=7&tyear=2016)"
   ]
  },
  {
   "cell_type": "markdown",
   "metadata": {
    "deletable": true,
    "editable": true,
    "slideshow": {
     "slide_type": "slide"
    }
   },
   "source": [
    "## GenBank\n",
    "\n",
    "- [https://www.ncbi.nlm.nih.gov/genbank/](https://www.ncbi.nlm.nih.gov/genbank/)\n",
    "- The NIH genetic sequence database, an annotated collection of all publicly available DNA sequences\n",
    "- Part of the International Nucleotide Sequence Database Collaboration\n",
    "    - GenBank\n",
    "    - DNA DataBank of Japan (DDBJ)\n",
    "    - European Nucleotide Archive (ENA)"
   ]
  },
  {
   "cell_type": "markdown",
   "metadata": {
    "deletable": true,
    "editable": true,
    "slideshow": {
     "slide_type": "slide"
    }
   },
   "source": [
    "## GenBank format\n",
    "\n",
    "```\n",
    "LOCUS       JX869059               30119 bp    RNA     linear   VRL 04-DEC-2012\n",
    "DEFINITION  Human betacoronavirus 2c EMC/2012, complete genome.\n",
    "ACCESSION   JX869059\n",
    "VERSION     JX869059.2\n",
    "KEYWORDS    .\n",
    "SOURCE      Human betacoronavirus 2c EMC/2012\n",
    "  ORGANISM  Human betacoronavirus 2c EMC/2012\n",
    "            Viruses; ssRNA viruses; ssRNA positive-strand viruses, no DNA\n",
    "            stage; Nidovirales; Coronaviridae; Coronavirinae; Betacoronavirus.\n",
    "...\n",
    "```"
   ]
  },
  {
   "cell_type": "markdown",
   "metadata": {
    "deletable": true,
    "editable": true,
    "slideshow": {
     "slide_type": "slide"
    }
   },
   "source": [
    "## FASTA format\n",
    "\n",
    "```\n",
    ">JX869059.2 Human betacoronavirus 2c EMC/2012, complete genome\n",
    "GATTTAAGTGAATAGCTTGGCTATCTCACTTCCCCTCGTTCTCTTGCAGAACTTTGATTTTAACGAACTT\n",
    "AAATAAAAGCCCTGTTGTTTAGCGTATCGTTGCACTTGTCTGGTGGGATTGTGGCATTAATTTGCCTGCT\n",
    "CATCTAGGCAGTGGACATATGCTCAACACTGGGTATAATTCTAATTGAATACTATTTTTCAGTTAGAGCG\n",
    "TCGTGTCTCTTGTACGTCTCGGTCACAATACACGGTTTCGTCCGGTGCGTGGCAATTCGGGGCACATCAT\n",
    "GTCTTTCGTGGCTGGTGTGACCGCGCAAGGTGCGCGCGGTACGTATCGAGCAGCGCTCAACTCTGAAAAA\n",
    "CATCAAGACCATGTGTCTCTAACTGTGCCACTCTGTGGTTCAGGAAACCTGGTTGAAAAACTTTCACCAT\n",
    "GGTTCATGGATGGCGAAAATGCCTATGAAGTGGTGAAGGCCATGTTACTTAAAAAGGAGCCACTTCTCTA\n",
    "```"
   ]
  },
  {
   "cell_type": "markdown",
   "metadata": {
    "deletable": true,
    "editable": true,
    "slideshow": {
     "slide_type": "slide"
    }
   },
   "source": [
    "## Converting formats\n",
    "\n",
    "- If the virus you are working on is only available in GenBank, then you will have to convert the sequence data into the correct format\n",
    "- I have written a small C program that takes a GenBank formatted sequence file and generates:\n",
    "    - A FASTA formatted file with names \"accession_date\"\n",
    "    - A tab-delimited file with host, country, and date of sampling"
   ]
  },
  {
   "cell_type": "markdown",
   "metadata": {
    "deletable": true,
    "editable": true,
    "slideshow": {
     "slide_type": "slide"
    }
   },
   "source": [
    "## Searching GenBank\n",
    "\n",
    "- It is a good idea to start with looking for the taxonomy ID of the pathogen\n",
    "    - [https://www.ncbi.nlm.nih.gov/taxonomy](https://www.ncbi.nlm.nih.gov/taxonomy)\n",
    "- Search for the pathogen of interest\n",
    "    - e.g. Zaire ebolavirus\n",
    "- Click on the taxon name\n",
    "- Click on the link to the nucleotide database\n",
    "- Select, using filters on the right"
   ]
  },
  {
   "cell_type": "markdown",
   "metadata": {
    "deletable": true,
    "editable": true,
    "slideshow": {
     "slide_type": "slide"
    }
   },
   "source": [
    "## Near full-length genomes of Ebola virus\n",
    "\n",
    "```\n",
    "txid186538[Organism:exp] AND\n",
    "(ddbj_embl_genbank[filter] AND\n",
    "(\"18000\"[SLEN] : \"19000\"[SLEN]) AND\n",
    "(\"2013/12/01\"[PDAT] : \"2017/09/30\"[PDAT]))\n",
    "```"
   ]
  },
  {
   "cell_type": "markdown",
   "metadata": {
    "deletable": true,
    "editable": true,
    "slideshow": {
     "slide_type": "slide"
    }
   },
   "source": [
    "## Exercise: downloading from Virus Variation\n",
    "\n",
    "1. Download sequences and metadata of MERS Coronavirus from the Virus Variation Resource with the following filters:\n",
    "    - Nucleotide sequences\n",
    "    - Host: camels or humans\n",
    "    - Country: Saudi Arabia\n",
    "    - Link [here](https://www.ncbi.nlm.nih.gov/genomes/VirusVariation/Database/nph-select.cgi?cmd=show_builder&country=Saudi%20Arabia&download-select=fN&genregion=any&go=database&host=Camel&host=Human&isolation=any&query_1_count=471&query_1_count_genome_sets=0&query_1_country=Saudi%20Arabia&query_1_genregion=any&query_1_host=Camel&query_1_host=Human&query_1_isolation=any&query_1_line=on&query_1_line_num=1&query_1_query_key=1&query_1_searchin=sequence&query_1_sequence=N&query_1_srcfilter_env_sample=include&query_1_srcfilter_labs=include&query_1_srcfilter_vac_strain=include&query_1_taxid=1335626&searchin=sequence&sequence=N&showfilters=true&srcfilter_env_sample=include&srcfilter_labs=include&srcfilter_vac_strain=include&taxid=1335626)\n",
    "2. Select sequences greater than 29,000 base pairs long\n",
    "3. Format the sequence names to be \"accession_date\"\n",
    "4. Download nucleotide sequences in FASTA format, calling it `mers.fas`. Open up the file in a text editor.\n",
    "5. Download the result set in tab-delimited format, calling it `mers.txt`. Open up in e.g. Excel or OpenOffice to see the results"
   ]
  },
  {
   "cell_type": "markdown",
   "metadata": {
    "deletable": true,
    "editable": true,
    "slideshow": {
     "slide_type": "slide"
    }
   },
   "source": [
    "## Renaming and filtering the sequences\n",
    "\n",
    "- The sequence names will not be accepted by many software programs, as they contain certain characters\n",
    "    - We need to rename sequences such as `KT805988_2015/05/10` to `KT805988_2015/05/10`\n",
    "- We are also going to filter our sequences to near-full length genomes, by choosing sequences only sequences 29,000 base pairs long or greater\n",
    "- I have given you an R script, `trimmers.R` to do this for you"
   ]
  },
  {
   "cell_type": "markdown",
   "metadata": {
    "deletable": true,
    "editable": true,
    "slideshow": {
     "slide_type": "slide"
    }
   },
   "source": [
    "```r\n",
    "library(ape)\n",
    "\n",
    "ifn <- \"data/mers.fas\"\n",
    "ofn <- \"data/mers.fas.long\"\n",
    "thresh <- 29000\n",
    "\n",
    "s <- read.dna(ifn,format=\"fasta\",as.matrix=FALSE)\n",
    "nm <- names(s)\n",
    "names(s) <- gsub(\"/\",\"-\",nm,fixed=TRUE)\n",
    "l <- unlist(lapply(s,length))\n",
    "s <- s[l>=thresh]\n",
    "\n",
    "write.dna(s,ofn,format=\"fasta\",nbcol=-1,colsep=\"\")\n",
    "```"
   ]
  },
  {
   "cell_type": "markdown",
   "metadata": {
    "deletable": true,
    "editable": true,
    "slideshow": {
     "slide_type": "-"
    }
   },
   "source": [
    "## Aside: downloading from GenBank\n",
    "\n",
    "1. Download MERS-CoV sequences from GenBank between 29,000 and 31,000 base pairs long and convert into FASTA sequences and metadata\n",
    "    - You should end up with a search term as follows:\n",
    "\n",
    "```\n",
    "txid1335626[Organism:exp] AND (ddbj_embl_genbank[filter] AND (\"29000\"[SLEN] : \"31000\"[SLEN]))\n",
    "```\n",
    "\n",
    "2. Convert to FASTA and tabular format using `gbmunge`\n",
    "\n",
    "```sh\n",
    "gbmunge -i sequence.gb -f sequence.fas -o sequence.txt -t\n",
    "```"
   ]
  },
  {
   "cell_type": "markdown",
   "metadata": {
    "deletable": true,
    "editable": true,
    "slideshow": {
     "slide_type": "slide"
    }
   },
   "source": [
    "## Summary\n",
    "\n",
    "- You should now have\n",
    "    - Sequences in FASTA format, with names in the correct format\n",
    "    - Associated metadata"
   ]
  },
  {
   "cell_type": "markdown",
   "metadata": {
    "deletable": true,
    "editable": true,
    "slideshow": {
     "slide_type": "slide"
    }
   },
   "source": [
    "# Multiple sequence alignment"
   ]
  },
  {
   "cell_type": "markdown",
   "metadata": {
    "deletable": true,
    "editable": true,
    "slideshow": {
     "slide_type": "slide"
    }
   },
   "source": [
    "## Align sequences\n",
    "\n",
    "- Sequences need to be *aligned* in order to perform downstream analyses\n",
    "- Multiple sequence alignment is an NP-hard problem, so heuristics are involved\n",
    "    - Different alignment programs give different results\n",
    "- In our work, we have found the program MAFFT to give good accuracy with high speed"
   ]
  },
  {
   "cell_type": "markdown",
   "metadata": {
    "deletable": true,
    "editable": true,
    "slideshow": {
     "slide_type": "slide"
    }
   },
   "source": [
    "## MAFFT usage\n",
    "\n",
    "<small>\n",
    "\n",
    "```sh\n",
    "High speed:\n",
    "  % mafft.bat in > out\n",
    "  % mafft.bat --retree 1 in > out (fast)\n",
    "\n",
    "High accuracy (for <~200 sequences x <~2,000 aa/nt):\n",
    "  % mafft.bat --maxiterate 1000 --localpair  in > out (% linsi in > out is also ok)\n",
    "  % mafft.bat --maxiterate 1000 --genafpair  in > out (% einsi in > out)\n",
    "  % mafft.bat --maxiterate 1000 --globalpair in > out (% ginsi in > out)\n",
    "\n",
    "If unsure which option to use:\n",
    "  % mafft.bat --auto in > out\n",
    "\n",
    "--op # :         Gap opening penalty, default: 1.53\n",
    "--ep # :         Offset (works like gap extension penalty), default: 0.0\n",
    "--maxiterate # : Maximum number of iterative refinement, default: 0\n",
    "--clustalout :   Output: clustal format, default: fasta\n",
    "--reorder :      Outorder: aligned, default: input order\n",
    "--quiet :        Do not report progress\n",
    "--thread # :     Number of threads (if unsure, --thread -1)\n",
    "```\n",
    "\n",
    "</small>"
   ]
  },
  {
   "cell_type": "markdown",
   "metadata": {
    "deletable": true,
    "editable": true,
    "slideshow": {
     "slide_type": "slide"
    }
   },
   "source": [
    "## Exercise: align sequences using MAFFT\n",
    "\n",
    "- Align the FASTA formatted MERS-CoV sequences using MAFFT\n",
    "\n",
    "```sh\n",
    "mafft.bat --auto --thread -1 mers.fas.long > mers.fas.long.aligned\n",
    "```"
   ]
  },
  {
   "cell_type": "markdown",
   "metadata": {
    "deletable": true,
    "editable": true,
    "slideshow": {
     "slide_type": "slide"
    }
   },
   "source": [
    "# Quality control"
   ]
  },
  {
   "cell_type": "markdown",
   "metadata": {
    "deletable": true,
    "editable": true,
    "slideshow": {
     "slide_type": "slide"
    }
   },
   "source": [
    "## Quality control\n",
    "\n",
    "- Once you have aligned sequences, it is important to check the alignment visually using an alignment editor\n",
    "    - Especially as downstream analyses are often computationally intensive\n",
    "- Common manipulations:\n",
    "    - Trimming\n",
    "    - Exclusion of low quality/divergent sequences\n",
    "    - Putting sequences into reading frame"
   ]
  },
  {
   "cell_type": "markdown",
   "metadata": {
    "deletable": true,
    "editable": true,
    "slideshow": {
     "slide_type": "slide"
    }
   },
   "source": [
    "## Exercise: visualise alignment\n",
    "\n",
    "1. Use Seaview to visualise the alignment\n",
    "    - In this case, no changes should be necessary"
   ]
  },
  {
   "cell_type": "markdown",
   "metadata": {
    "deletable": true,
    "editable": true,
    "slideshow": {
     "slide_type": "slide"
    }
   },
   "source": [
    "## Screening for recombination\n",
    "\n",
    "- Recombination leads to different parts of the alignment having different evolutionary histories\n",
    "- Building a single phylogeny from the entire alignment can be misleading\n",
    "- It is advisable to screen for recombination using tools such as [RDP4](http://web.cbio.uct.ac.za/~darren/rdp.html)\n",
    "- Strategies:\n",
    "    - Removal of recombinant sequences\n",
    "    - Only use a non-recombinant part of the alignment\n",
    "    - Split recombinant sequences into non-recombinant segments\n",
    "- Due to time constraints, we will assume that our sequences are free of recombination"
   ]
  },
  {
   "cell_type": "markdown",
   "metadata": {
    "deletable": true,
    "editable": true,
    "slideshow": {
     "slide_type": "slide"
    }
   },
   "source": [
    "# Phylogenetic reconstruction"
   ]
  },
  {
   "cell_type": "markdown",
   "metadata": {
    "deletable": true,
    "editable": true,
    "slideshow": {
     "slide_type": "slide"
    }
   },
   "source": [
    "## Reconstructing a phylogeny\n",
    "\n",
    "- A phylogeny is a tree that represents the evolutionary relationships between a set of sequences\n",
    "- There are multiple methods to reconstruct a phylogeny\n",
    "    - Parsimony\n",
    "    - Distance based methods\n",
    "    - Likelihood based methods:\n",
    "        - **Maximum likelihood**\n",
    "        - Bayesian"
   ]
  },
  {
   "cell_type": "markdown",
   "metadata": {
    "deletable": true,
    "editable": true,
    "slideshow": {
     "slide_type": "slide"
    }
   },
   "source": [
    "## Maximum likelihood inference of phylogeny\n",
    "\n",
    "- For ML inference we need to assume a model for how the sequence evolves\n",
    "- For nucleotide sequences, this is the rate at which one base is substituted for another\n",
    "\n",
    "![](https://wikimedia.org/api/rest_v1/media/math/render/svg/2842b61fd25a43260e6e01a016ecdfb302312651)\n",
    "\n",
    "- See [https://en.wikipedia.org/wiki/Models_of_DNA_evolution](https://en.wikipedia.org/wiki/Models_of_DNA_evolution) for more information on models"
   ]
  },
  {
   "cell_type": "markdown",
   "metadata": {
    "deletable": true,
    "editable": true,
    "slideshow": {
     "slide_type": "slide"
    }
   },
   "source": [
    "## General time reversible (GTR) model\n",
    "\n",
    "![](https://wikimedia.org/api/rest_v1/media/math/render/svg/a3f55f3a07a6821f3082c64027ff66fb86bf9460)"
   ]
  },
  {
   "cell_type": "markdown",
   "metadata": {
    "deletable": true,
    "editable": true,
    "slideshow": {
     "slide_type": "slide"
    }
   },
   "source": [
    "## Modeling rate variation\n",
    "\n",
    "- In addition to varying rates of substitution between different bases, there can also be variation across sites in the alignment\n",
    "    - Conserved positions, e.g. due to functional constraints\n",
    "    - Highly variable positions, e.g. due to immune selection\n",
    "- We can allow the overall substitution rate to vary across positions according to some probability distribution\n",
    "- This distribution is often discretised into categories for computational reasons\n",
    "- Common choices\n",
    "    - Gamma distribution\n",
    "    - Free rates distribution"
   ]
  },
  {
   "cell_type": "markdown",
   "metadata": {
    "deletable": true,
    "editable": true,
    "slideshow": {
     "slide_type": "slide"
    }
   },
   "source": [
    "## Choosing substitution models\n",
    "\n",
    "- Choosing a model means striking a balance:\n",
    "    - More parameters = better fit to the data\n",
    "    - Less parameters = simpler model\n",
    "- We can compare different models by computing the fit (likelihood) and the complexity (the number of parameters) and choosing the 'best' one\n",
    "- Two common criteria (smaller is better):\n",
    "    - Akaike's Information Criterion (AIC)\n",
    "    - Bayesian Information Criterion (BIC)\n",
    "        - Tends to favour simpler models than AIC"
   ]
  },
  {
   "cell_type": "markdown",
   "metadata": {
    "deletable": true,
    "editable": true,
    "slideshow": {
     "slide_type": "slide"
    }
   },
   "source": [
    "## IQ-TREE\n",
    "\n",
    "- [IQ-TREE](http://www.iqtree.org/) is a program that can perform:\n",
    "    - Tests of substitution models\n",
    "    - Phylogenetic reconstruction\n",
    "- Fast, flexible, and is actively developed\n",
    "- We will use the development (1.6) version"
   ]
  },
  {
   "cell_type": "markdown",
   "metadata": {
    "slideshow": {
     "slide_type": "slide"
    }
   },
   "source": [
    "## Exercise: getting a rough tree\n",
    "\n",
    "- Run IQ-TREE and take a look at the output files\n",
    "\n",
    "Usage:\n",
    "\n",
    "```sh\n",
    "iqtree -s mers.fas.long.aligned -m TN93 -pre mers_prelim -nt 2 -fast\n",
    "```\n",
    "\n",
    "- `-s`: sequence file in FASTA\n",
    "- `-m`: model of substitution used (here, TN93)\n",
    "- `-pre`: prefix used for output files\n",
    "- `-nt`: number of threads used\n",
    "- `-fast`: uses fast option (more later)\n",
    "\n"
   ]
  },
  {
   "cell_type": "markdown",
   "metadata": {
    "slideshow": {
     "slide_type": "slide"
    }
   },
   "source": [
    "## Exercise: visualising the tree in Seaview\n",
    "\n",
    "- Open up the resulting tree (should be called `mers_prelim.treefile`) in Seaview\n",
    "- Do you see any outlying sequences?\n",
    "- If you also open up the sequence file, `mers.fas.long.aligned`, you can select sequences by selecting them on the tree\n",
    "    - Useful to exclude outliers"
   ]
  },
  {
   "cell_type": "markdown",
   "metadata": {
    "deletable": true,
    "editable": true,
    "slideshow": {
     "slide_type": "slide"
    }
   },
   "source": [
    "## Exercise: choosing a model\n",
    "\n",
    "1. Once you have a 'final' alignment, use IQTREE to choose a substitution model\n",
    "\n",
    "Usage:\n",
    "\n",
    "```sh\n",
    "iqtree -s <FASTA file> -m MF -pre <prefix> -nt <number of threads>\n",
    "```\n",
    "\n",
    "Options to restricted set of models, e.g.\n",
    "\n",
    "```sh\n",
    "-mset HKY,TN,GTR -mrate E,G,R\n",
    "```"
   ]
  },
  {
   "cell_type": "markdown",
   "metadata": {
    "deletable": true,
    "editable": true,
    "slideshow": {
     "slide_type": "slide"
    }
   },
   "source": [
    "## Output of model selection\n",
    "\n",
    "- For example, for Ebola sequences\n",
    "\n",
    "```sh\n",
    " No. Model         -LnL         df  AIC          AICc         BIC\n",
    "  1  GTR           68171.876    3765 143873.753   145672.660   173540.850\n",
    "  2  GTR+R2        67095.370    3767 141724.740   143525.788   171407.597\n",
    "  3  GTR+R3        66879.788    3769 141297.577   143100.766   170996.192\n",
    "  4  GTR+R4        66800.124    3771 141142.248   142947.580   170856.623\n",
    "  5  GTR+R5        66765.734    3773 141077.467   142884.944   170807.602\n",
    "  6  GTR+R6        66753.528    3775 141057.056   142866.679   170802.950\n",
    "  7  GTR+R7        66750.018    3777 141054.035   142865.806   170815.689\n",
    "```\n",
    "\n",
    "- Take a look at your output from model selection; which model is 'best'?"
   ]
  },
  {
   "cell_type": "markdown",
   "metadata": {
    "deletable": true,
    "editable": true
   },
   "source": [
    "## Reconstruct phylogeny\n",
    "\n",
    "- Once we have a model (which uses a fast, approximate phylogeny), we can reconstruct a phylogeny\n",
    "- Tree search has to be done heuristically, as there are too many trees to test all of them\n",
    "- In maximum likelihood\n",
    "    - Start with a rough tree\n",
    "    - Change the tree and compare the likelihood of the new tree with the old\n",
    "    - Keep changing the tree until the likelihood does not improve"
   ]
  },
  {
   "cell_type": "markdown",
   "metadata": {
    "deletable": true,
    "editable": true,
    "slideshow": {
     "slide_type": "slide"
    }
   },
   "source": [
    "## Tree rearrangements\n",
    "\n",
    "- Three basic rearrangements in wide use:\n",
    "    - Nearest neighbour interchange\n",
    "    - Subtree pruning and regrafting\n",
    "    - Tree bisection and reconnection\n",
    "- More information at [https://en.wikipedia.org/wiki/Tree_rearrangement](https://en.wikipedia.org/wiki/Tree_rearrangement)"
   ]
  },
  {
   "cell_type": "markdown",
   "metadata": {
    "deletable": true,
    "editable": true,
    "slideshow": {
     "slide_type": "slide"
    }
   },
   "source": [
    "## Nearest neighbour interchange (NNI)\n",
    "\n",
    "![](https://upload.wikimedia.org/wikipedia/commons/5/5f/NNI.svg)"
   ]
  },
  {
   "cell_type": "markdown",
   "metadata": {
    "deletable": true,
    "editable": true,
    "slideshow": {
     "slide_type": "slide"
    }
   },
   "source": [
    "## Subtree pruning and regrafting (SPR)\n",
    "\n",
    "![](https://upload.wikimedia.org/wikipedia/commons/3/3b/SPR.svg)"
   ]
  },
  {
   "cell_type": "markdown",
   "metadata": {
    "deletable": true,
    "editable": true,
    "slideshow": {
     "slide_type": "slide"
    }
   },
   "source": [
    "## Tree bisection and reconnection (TBR)\n",
    "\n",
    "![](https://upload.wikimedia.org/wikipedia/commons/0/0d/TBR.svg)"
   ]
  },
  {
   "cell_type": "markdown",
   "metadata": {
    "deletable": true,
    "editable": true,
    "slideshow": {
     "slide_type": "slide"
    }
   },
   "source": [
    "## Tree reconstruction with IQ-TREE\n",
    "\n",
    "- IQ-TREE uses a stochastic search approach to find the 'best' tree\n",
    "- Additional options:\n",
    "    - `-fast`: performs fast but approximate search\n",
    "    - `-allnni`: performs more thorough NNI search"
   ]
  },
  {
   "cell_type": "markdown",
   "metadata": {
    "deletable": true,
    "editable": true,
    "slideshow": {
     "slide_type": "slide"
    }
   },
   "source": [
    "## Exercise: reconstruct phylogeny\n",
    "\n",
    "1. Use IQ-TREE to generate a rough phylogeny using the `-fast` option\n",
    "\n",
    "Usage:\n",
    "\n",
    "```sh\n",
    "iqtree -s <FASTA file> -m <model> -pre <prefix> -nt <threads> -fast\n",
    "```"
   ]
  },
  {
   "cell_type": "markdown",
   "metadata": {
    "deletable": true,
    "editable": true,
    "slideshow": {
     "slide_type": "slide"
    }
   },
   "source": [
    "## Visualise tree\n",
    "\n",
    "- Once we have a tree, we need to visualise it\n",
    "- Things to look for:\n",
    "    - Temporal signal: sequences sampled later are more divergent\n",
    "    - Outlier sequences\n",
    "        - Recombinants\n",
    "        - Alignment errors\n",
    "        - Hypermutation\n",
    "        - Arrested evolution"
   ]
  },
  {
   "cell_type": "markdown",
   "metadata": {
    "deletable": true,
    "editable": true,
    "slideshow": {
     "slide_type": "slide"
    }
   },
   "source": [
    "## TempEst\n",
    "\n",
    "- [TempEst](http://tree.bio.ed.ac.uk/software/tempest/) is a program that roots a phylogeny in order to maximise the association of sampling times with distance to the root of the tree\n",
    "- This makes it easier to spot divergent sequences"
   ]
  },
  {
   "cell_type": "markdown",
   "metadata": {
    "deletable": true,
    "editable": true,
    "slideshow": {
     "slide_type": "slide"
    }
   },
   "source": [
    "## Exercise: visualising the tree\n",
    "\n",
    "1. Use TempEst to visualise the maximum likelihood tree from IQ-TREE\n",
    "    - Read in tree\n",
    "    - Guess dates of sampling from sequence headers\n",
    "    - Infer root\n",
    "2. Questions:\n",
    "    - When is the most recent common ancestor (TMRCA)?\n",
    "    - Why might this method not be the most robust way of finding TMRCA?\n",
    "    - How strong is the temporal signal?"
   ]
  },
  {
   "cell_type": "markdown",
   "metadata": {
    "slideshow": {
     "slide_type": "slide"
    }
   },
   "source": [
    "## Addendum: significant clusters\n",
    "\n",
    "- Maximum likelihood gives you a single tree\n",
    "- Like all inferences, there is error around this tree\n",
    "- How do we capture this error?"
   ]
  },
  {
   "cell_type": "markdown",
   "metadata": {
    "slideshow": {
     "slide_type": "slide"
    }
   },
   "source": [
    "## Nonparametric bootstrapping\n",
    "\n",
    "- Idea: produce replicate datasets by resampling the original data\n",
    "    - Generate new alignments from sampling columns from the old alignment\n",
    "- Run the analysis on these replicate datasets\n",
    "- Often, a *consensus tree* is generated from the independent runs\n",
    "    - Contains how often a particular group of sequences in the original tree clusters together in the bootstrap replicates"
   ]
  },
  {
   "cell_type": "markdown",
   "metadata": {
    "slideshow": {
     "slide_type": "slide"
    }
   },
   "source": [
    "## Other approximate bootstrap approaches\n",
    "\n",
    "- Approximate likelihood ratio test (aLRT)\n",
    "    - Tests whether a branch can be collapsed to zero or not\n",
    "- UFboot/UFboot2 (ultrafast bootstrap approximation)\n",
    "    - Uses trees found in maximum likelihood search and resampling of partial likelihoods\n",
    "- Simple bootstrap sampling, aLRT, and UFboot/UFboot2 all available in IQ-TREE"
   ]
  },
  {
   "cell_type": "markdown",
   "metadata": {
    "slideshow": {
     "slide_type": "slide"
    }
   },
   "source": [
    "## Exercise: nonparametric bootstrapping\n",
    "\n",
    "- To add simple bootstrap sampling, add `-b` followed by the number of bootstrap replicates to the command line.\n",
    "\n",
    "e.g.\n",
    "\n",
    "```sh\n",
    "iqtree -s mers.fas.long.aligned -m GTR+R2 -pre mers_boot -nt 2 -fast -b 100\n",
    "```\n",
    "\n",
    "- This will generate two additional files:\n",
    "    - `*.boottrees`: bootstrap trees\n",
    "    - `*.contree`: consensus tree"
   ]
  },
  {
   "cell_type": "markdown",
   "metadata": {
    "slideshow": {
     "slide_type": "slide"
    }
   },
   "source": [
    "## Exercise: visualising branch supports\n",
    "\n",
    "- Open up the consensus tree in FigTree."
   ]
  },
  {
   "cell_type": "markdown",
   "metadata": {
    "deletable": true,
    "editable": true,
    "slideshow": {
     "slide_type": "slide"
    }
   },
   "source": [
    "## Summary so far\n",
    "\n",
    "- Obtained sequence data and metadata in the appropriate formats\n",
    "- Aligned sequences and checked\n",
    "- Chosen an evolutionary model\n",
    "- Reconstructed a tree\n",
    "- Rooted the tree based on sampling times\n",
    "- Next steps: phylodynamics"
   ]
  }
 ],
 "metadata": {
  "celltoolbar": "Slideshow",
  "kernelspec": {
   "display_name": "Python 3",
   "language": "python",
   "name": "python3"
  },
  "language_info": {
   "codemirror_mode": {
    "name": "ipython",
    "version": 3
   },
   "file_extension": ".py",
   "mimetype": "text/x-python",
   "name": "python",
   "nbconvert_exporter": "python",
   "pygments_lexer": "ipython3",
   "version": "3.5.2"
  }
 },
 "nbformat": 4,
 "nbformat_minor": 2
}
